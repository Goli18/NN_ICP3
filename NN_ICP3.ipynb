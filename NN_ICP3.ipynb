{
  "nbformat": 4,
  "nbformat_minor": 0,
  "metadata": {
    "colab": {
      "provenance": []
    },
    "kernelspec": {
      "name": "python3",
      "display_name": "Python 3"
    },
    "language_info": {
      "name": "python"
    }
  },
  "cells": [
    {
      "cell_type": "code",
      "execution_count": 30,
      "metadata": {
        "colab": {
          "base_uri": "https://localhost:8080/"
        },
        "id": "t9cHH7i3uTL2",
        "outputId": "f0320ebd-cd9b-4d3b-a402-12f707f5d013"
      },
      "outputs": [
        {
          "output_type": "stream",
          "name": "stdout",
          "text": [
            "37000.0\n",
            "37000.0\n",
            "4\n"
          ]
        }
      ],
      "source": [
        "# 1. Create a class Employee and then do the following\n",
        "# • Create a data member to count the number of Employees\n",
        "# • Create a constructor to initialize name, family, salary, department\n",
        "# • Create a function to average salary\n",
        "# • Create a Fulltime Employee class and it should inherit the properties of Employee class\n",
        "# • Create the instances of Fulltime Employee class and Employee class and call their member functions.\n",
        "\n",
        "class Employee:\n",
        "  emp_count = 0\n",
        "\n",
        "  def __init__(self, name, family, salary, department):\n",
        "\n",
        "        self.name = name\n",
        "        self.family = family\n",
        "        self.salary = salary\n",
        "        self.department = department\n",
        "        Employee.emp_count = Employee.emp_count + 1\n",
        "  def avg_sal(self, emps):\n",
        "      sum_sal = 0\n",
        "      for i in emps:\n",
        "            sum_sal= sum_sal+ i.salary\n",
        "\n",
        "      print(sum_sal/len(emps))\n",
        "\n",
        "class Fulltime_Employee(Employee):\n",
        "\n",
        "      def __init__(self, name, family, salary, department):\n",
        "         Employee.__init__(self, name, family, salary, department)\n",
        "\n",
        "        \n",
        "list = []\n",
        "list.append(Employee('John', 'Doe', 30000, 'IT'))\n",
        "list.append(Employee('Jane', 'Levy', 45000, 'Sales'))\n",
        "\n",
        "list.append(Fulltime_Employee('Jack', 'Sparrow', 23000, 'Design'))\n",
        "list.append(Fulltime_Employee('Jared', 'Leto', 50000, 'Gaming'))\n",
        "\n",
        "list[0].avg_sal(list)\n",
        "list[2].avg_sal(list)\n",
        "print(Employee.emp_count)\n",
        "\n",
        "\n"
      ]
    },
    {
      "cell_type": "code",
      "source": [
        "# 2. Numpy\n",
        "# Using NumPy create random vector of size 20 having only float in the range 1-20. \n",
        "# Then reshape the array to 4 by 5\n",
        "# Then replace the max in each row by 0 (axis=1)\n",
        "# (you can NOT implement it via for loop)\n",
        "\n",
        "import numpy as np\n",
        "\n",
        "# Create random vector of size 20 with floats between 1 and 20\n",
        "vec = np.random.uniform(1, 20, 20)\n",
        "\n",
        "# Reshape the vector to 4 by 5\n",
        "mat = vec.reshape(4, 5)\n",
        "\n",
        "# Replace the max in each row by 0\n",
        "mat[np.arange(4), mat.argmax(axis=1)] = 0\n",
        "\n",
        "print(mat)\n"
      ],
      "metadata": {
        "colab": {
          "base_uri": "https://localhost:8080/"
        },
        "id": "pXC7_LMDyQp5",
        "outputId": "81131235-ff6a-4e67-f736-2d43101a1ec4"
      },
      "execution_count": 31,
      "outputs": [
        {
          "output_type": "stream",
          "name": "stdout",
          "text": [
            "[[ 9.73428305  8.27569143 14.64260182  0.         15.00210218]\n",
            " [ 1.37565794  0.         18.06520476 18.11727035 17.22533839]\n",
            " [13.68147464 16.31470021  2.05380032  6.91781989  0.        ]\n",
            " [13.30430678  8.15609859 11.14383081  0.          3.8990135 ]]\n"
          ]
        }
      ]
    }
  ]
}